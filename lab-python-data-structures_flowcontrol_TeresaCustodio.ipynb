{
 "cells": [
  {
   "cell_type": "code",
   "execution_count": 18,
   "id": "7b4be6cf-fbfb-4ec7-b73f-d9285956d910",
   "metadata": {},
   "outputs": [],
   "source": [
    "products = ['t-shirt', 'mug', 'hat', 'book', 'keychain']"
   ]
  },
  {
   "cell_type": "code",
   "execution_count": 19,
   "id": "3805edc9-cdb6-4488-9676-979969015f0d",
   "metadata": {},
   "outputs": [],
   "source": [
    "inventory = {}"
   ]
  },
  {
   "cell_type": "code",
   "execution_count": 20,
   "id": "a0521e39-dc55-4c85-8e9c-95334a0d3d8c",
   "metadata": {},
   "outputs": [
    {
     "name": "stdin",
     "output_type": "stream",
     "text": [
      "How many t-shirts are there in the warehouse? 50\n",
      "How many mugs are there in the warehouse? 40\n",
      "How many hats are there in the warehouse? 30\n",
      "How many books are there in the warehouse? 60\n",
      "How many keychains are there in the warehouse? 45\n"
     ]
    }
   ],
   "source": [
    "for product in products:\n",
    "    count = int(input(f'How many {product}s are there in the warehouse?'))\n",
    "    inventory[product] = count"
   ]
  },
  {
   "cell_type": "code",
   "execution_count": 21,
   "id": "889c73dc-8c03-43e4-ad66-3f973ae70a36",
   "metadata": {},
   "outputs": [
    {
     "name": "stdout",
     "output_type": "stream",
     "text": [
      "Inventory: {'t-shirt': 50, 'mug': 40, 'hat': 30, 'book': 60, 'keychain': 45}\n"
     ]
    }
   ],
   "source": [
    "print(\"Inventory:\", inventory)"
   ]
  },
  {
   "cell_type": "code",
   "execution_count": 22,
   "id": "72cd66d5-78a7-4c9b-a6ac-375b66b2acc3",
   "metadata": {},
   "outputs": [
    {
     "name": "stdin",
     "output_type": "stream",
     "text": [
      "Enter the name of a product you want to order:  mug\n",
      "Do you want to add another product? (yes/no):  yes\n",
      "Enter the name of a product you want to order:  book\n",
      "Do you want to add another product? (yes/no):  yes\n",
      "Enter the name of a product you want to order:  t-shirt\n",
      "Do you want to add another product? (yes/no):  no\n"
     ]
    }
   ],
   "source": [
    "customer_orders = set()\n",
    "\n",
    "while True:\n",
    "    product = input(\"Enter the name of a product you want to order: \")\n",
    "    customer_orders.add(product.strip().lower())\n",
    "\n",
    "    more = input(\"Do you want to add another product? (yes/no): \")\n",
    "    if more.strip().lower() != 'yes':\n",
    "        break"
   ]
  },
  {
   "cell_type": "code",
   "execution_count": 23,
   "id": "a0e20867-80af-43f3-b08e-09c26f7c84cc",
   "metadata": {},
   "outputs": [
    {
     "name": "stdout",
     "output_type": "stream",
     "text": [
      "Customer Orders: {'t-shirt', 'mug', 'book'}\n"
     ]
    }
   ],
   "source": [
    "print(\"Customer Orders:\", customer_orders)"
   ]
  },
  {
   "cell_type": "code",
   "execution_count": 24,
   "id": "5b5dde34-9a64-46de-ab67-2523dc9fad51",
   "metadata": {},
   "outputs": [],
   "source": [
    "total_products_ordered = len(customer_orders)"
   ]
  },
  {
   "cell_type": "code",
   "execution_count": 25,
   "id": "03a26550-0d7d-4c61-85ce-5118243bd05f",
   "metadata": {},
   "outputs": [
    {
     "name": "stdout",
     "output_type": "stream",
     "text": [
      "Total Products Ordered: 3\n"
     ]
    }
   ],
   "source": [
    "print(\"Total Products Ordered:\", total_products_ordered)"
   ]
  },
  {
   "cell_type": "code",
   "execution_count": 26,
   "id": "82c57f07-57be-4d98-ad9e-a0c065117080",
   "metadata": {},
   "outputs": [],
   "source": [
    "percentage_of_products_ordered = (len(customer_orders) / len(products))*100"
   ]
  },
  {
   "cell_type": "code",
   "execution_count": 27,
   "id": "b72378ba-8cca-43a6-9000-788d73872a7a",
   "metadata": {},
   "outputs": [
    {
     "name": "stdout",
     "output_type": "stream",
     "text": [
      "60 %\n"
     ]
    }
   ],
   "source": [
    "print(int(percentage_of_products_ordered),'%')"
   ]
  },
  {
   "cell_type": "code",
   "execution_count": 28,
   "id": "3ea2a193-f136-4c74-84fd-eb857dbdb7d5",
   "metadata": {},
   "outputs": [
    {
     "name": "stdout",
     "output_type": "stream",
     "text": [
      "Order Statistics:\n",
      "Total Products Ordered: 3\n",
      "Percentage of Products Ordered: 60 %\n"
     ]
    }
   ],
   "source": [
    "print(\"Order Statistics:\")\n",
    "print(\"Total Products Ordered:\", total_products_ordered)\n",
    "print(\"Percentage of Products Ordered:\", int(percentage_of_products_ordered), \"%\")"
   ]
  },
  {
   "cell_type": "code",
   "execution_count": 29,
   "id": "a6d53062-2199-4db2-abba-bb03585d9cc6",
   "metadata": {},
   "outputs": [],
   "source": [
    "for item in customer_orders:\n",
    "    if inventory[item] > 0:\n",
    "        inventory[item] -= 1"
   ]
  },
  {
   "cell_type": "code",
   "execution_count": 30,
   "id": "e08fea7a-5ce3-461a-b4e2-dd3cadf5526d",
   "metadata": {},
   "outputs": [
    {
     "name": "stdout",
     "output_type": "stream",
     "text": [
      "Updated Inventory:\n",
      "t-shirt: 49\n",
      "mug: 39\n",
      "hat: 30\n",
      "book: 59\n",
      "keychain: 45\n"
     ]
    }
   ],
   "source": [
    "print(\"Updated Inventory:\")\n",
    "for product, quantity in inventory.items():\n",
    "    print(f\"{product}: {quantity}\")"
   ]
  }
 ],
 "metadata": {
  "kernelspec": {
   "display_name": "Python 3 (ipykernel)",
   "language": "python",
   "name": "python3"
  },
  "language_info": {
   "codemirror_mode": {
    "name": "ipython",
    "version": 3
   },
   "file_extension": ".py",
   "mimetype": "text/x-python",
   "name": "python",
   "nbconvert_exporter": "python",
   "pygments_lexer": "ipython3",
   "version": "3.13.3"
  }
 },
 "nbformat": 4,
 "nbformat_minor": 5
}
